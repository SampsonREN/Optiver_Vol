{
 "cells": [
  {
   "cell_type": "code",
   "execution_count": 3,
   "id": "b81b2e0c",
   "metadata": {},
   "outputs": [
    {
     "name": "stdout",
     "output_type": "stream",
     "text": [
      "Collecting xgboost\n",
      "  Downloading xgboost-1.6.0-py3-none-win_amd64.whl (126.1 MB)\n",
      "Requirement already satisfied: numpy in c:\\anaconda3\\lib\\site-packages (from xgboost) (1.20.1)\n",
      "Requirement already satisfied: scipy in c:\\anaconda3\\lib\\site-packages (from xgboost) (1.6.2)\n",
      "Installing collected packages: xgboost\n",
      "Successfully installed xgboost-1.6.0\n",
      "Note: you may need to restart the kernel to use updated packages.\n"
     ]
    }
   ],
   "source": [
    "pip install xgboost"
   ]
  },
  {
   "cell_type": "code",
   "execution_count": 1,
   "id": "e0ea1db5",
   "metadata": {},
   "outputs": [],
   "source": [
    "from sklearn.model_selection import TimeSeriesSplit\n",
    "from sklearn.model_selection import KFold\n",
    "import numpy as np\n",
    "import pandas as pd\n",
    "import matplotlib.pyplot as plt\n",
    "from matplotlib.patches import Patch\n",
    "import seaborn as sns \n",
    "import xgboost as xgb\n",
    "\n",
    "import sklearn\n",
    "from sklearn.linear_model import ElasticNet\n",
    "from sklearn.multioutput import MultiOutputRegressor\n",
    "from sklearn.model_selection import cross_val_score\n",
    "from sklearn.model_selection import GridSearchCV"
   ]
  },
  {
   "cell_type": "code",
   "execution_count": 2,
   "id": "665606df",
   "metadata": {},
   "outputs": [],
   "source": [
    "# import data and data processing\n",
    "df = pd.read_csv(\"basic_feature.csv\")\n",
    "df.head()\n",
    "df = df[df.time_id != 34]\n",
    "df = df[df.time_id != 32]\n",
    "df = df[df.time_id != 4]\n",
    "df.sort_values(by=[\"time_id\", \"stock_id\"], inplace=True)\n",
    "df = df.dropna() \n",
    "# df.reset_index(inplace=True) # df is the full processed data"
   ]
  },
  {
   "cell_type": "code",
   "execution_count": 3,
   "id": "7c776557",
   "metadata": {},
   "outputs": [
    {
     "data": {
      "text/html": [
       "<div>\n",
       "<style scoped>\n",
       "    .dataframe tbody tr th:only-of-type {\n",
       "        vertical-align: middle;\n",
       "    }\n",
       "\n",
       "    .dataframe tbody tr th {\n",
       "        vertical-align: top;\n",
       "    }\n",
       "\n",
       "    .dataframe thead th {\n",
       "        text-align: right;\n",
       "    }\n",
       "</style>\n",
       "<table border=\"1\" class=\"dataframe\">\n",
       "  <thead>\n",
       "    <tr style=\"text-align: right;\">\n",
       "      <th></th>\n",
       "      <th>index</th>\n",
       "      <th>stock_id</th>\n",
       "      <th>time_id</th>\n",
       "      <th>target</th>\n",
       "      <th>book.seconds_in_bucket.count</th>\n",
       "      <th>book.wap1.sum</th>\n",
       "      <th>book.wap1.mean</th>\n",
       "      <th>book.wap1.std</th>\n",
       "      <th>book.wap2.sum</th>\n",
       "      <th>book.wap2.mean</th>\n",
       "      <th>...</th>\n",
       "      <th>trade_300.order_count.mean</th>\n",
       "      <th>trade_150.log_return.realized_volatility</th>\n",
       "      <th>trade_150.seconds_in_bucket.count</th>\n",
       "      <th>trade_150.size.sum</th>\n",
       "      <th>trade_150.order_count.mean</th>\n",
       "      <th>tick_size</th>\n",
       "      <th>trade.tau</th>\n",
       "      <th>trade_150.tau</th>\n",
       "      <th>book.tau</th>\n",
       "      <th>real_price</th>\n",
       "    </tr>\n",
       "  </thead>\n",
       "  <tbody>\n",
       "    <tr>\n",
       "      <th>0</th>\n",
       "      <td>397843</td>\n",
       "      <td>116</td>\n",
       "      <td>28527</td>\n",
       "      <td>0.003425</td>\n",
       "      <td>289.0</td>\n",
       "      <td>288.890259</td>\n",
       "      <td>0.999620</td>\n",
       "      <td>0.000797</td>\n",
       "      <td>288.842896</td>\n",
       "      <td>0.999456</td>\n",
       "      <td>...</td>\n",
       "      <td>2.312500</td>\n",
       "      <td>0.001587</td>\n",
       "      <td>22.0</td>\n",
       "      <td>1016.0</td>\n",
       "      <td>2.045455</td>\n",
       "      <td>0.000050</td>\n",
       "      <td>0.174078</td>\n",
       "      <td>0.213201</td>\n",
       "      <td>0.058824</td>\n",
       "      <td>199.254347</td>\n",
       "    </tr>\n",
       "    <tr>\n",
       "      <th>1</th>\n",
       "      <td>401673</td>\n",
       "      <td>118</td>\n",
       "      <td>28527</td>\n",
       "      <td>0.002233</td>\n",
       "      <td>271.0</td>\n",
       "      <td>270.716705</td>\n",
       "      <td>0.998955</td>\n",
       "      <td>0.000588</td>\n",
       "      <td>270.726440</td>\n",
       "      <td>0.998991</td>\n",
       "      <td>...</td>\n",
       "      <td>2.571429</td>\n",
       "      <td>0.001482</td>\n",
       "      <td>38.0</td>\n",
       "      <td>4262.0</td>\n",
       "      <td>2.710526</td>\n",
       "      <td>0.000036</td>\n",
       "      <td>0.145865</td>\n",
       "      <td>0.162221</td>\n",
       "      <td>0.060746</td>\n",
       "      <td>281.025394</td>\n",
       "    </tr>\n",
       "    <tr>\n",
       "      <th>2</th>\n",
       "      <td>405503</td>\n",
       "      <td>119</td>\n",
       "      <td>28527</td>\n",
       "      <td>0.001944</td>\n",
       "      <td>578.0</td>\n",
       "      <td>579.627319</td>\n",
       "      <td>1.002815</td>\n",
       "      <td>0.000327</td>\n",
       "      <td>579.623962</td>\n",
       "      <td>1.002810</td>\n",
       "      <td>...</td>\n",
       "      <td>2.666667</td>\n",
       "      <td>0.001269</td>\n",
       "      <td>40.0</td>\n",
       "      <td>11573.0</td>\n",
       "      <td>2.925000</td>\n",
       "      <td>0.000199</td>\n",
       "      <td>0.121268</td>\n",
       "      <td>0.158114</td>\n",
       "      <td>0.041595</td>\n",
       "      <td>50.321584</td>\n",
       "    </tr>\n",
       "    <tr>\n",
       "      <th>3</th>\n",
       "      <td>409333</td>\n",
       "      <td>120</td>\n",
       "      <td>28527</td>\n",
       "      <td>0.001775</td>\n",
       "      <td>579.0</td>\n",
       "      <td>578.270325</td>\n",
       "      <td>0.998740</td>\n",
       "      <td>0.000471</td>\n",
       "      <td>578.260620</td>\n",
       "      <td>0.998723</td>\n",
       "      <td>...</td>\n",
       "      <td>2.073171</td>\n",
       "      <td>0.001527</td>\n",
       "      <td>68.0</td>\n",
       "      <td>9710.0</td>\n",
       "      <td>2.132353</td>\n",
       "      <td>0.000122</td>\n",
       "      <td>0.101015</td>\n",
       "      <td>0.121268</td>\n",
       "      <td>0.041559</td>\n",
       "      <td>81.680701</td>\n",
       "    </tr>\n",
       "    <tr>\n",
       "      <th>4</th>\n",
       "      <td>413163</td>\n",
       "      <td>122</td>\n",
       "      <td>28527</td>\n",
       "      <td>0.001986</td>\n",
       "      <td>467.0</td>\n",
       "      <td>466.298248</td>\n",
       "      <td>0.998497</td>\n",
       "      <td>0.001005</td>\n",
       "      <td>466.296143</td>\n",
       "      <td>0.998493</td>\n",
       "      <td>...</td>\n",
       "      <td>1.810811</td>\n",
       "      <td>0.001452</td>\n",
       "      <td>65.0</td>\n",
       "      <td>5065.0</td>\n",
       "      <td>2.030769</td>\n",
       "      <td>0.000093</td>\n",
       "      <td>0.110432</td>\n",
       "      <td>0.124035</td>\n",
       "      <td>0.046274</td>\n",
       "      <td>107.546256</td>\n",
       "    </tr>\n",
       "  </tbody>\n",
       "</table>\n",
       "<p>5 rows × 221 columns</p>\n",
       "</div>"
      ],
      "text/plain": [
       "    index  stock_id  time_id    target  book.seconds_in_bucket.count  \\\n",
       "0  397843       116    28527  0.003425                         289.0   \n",
       "1  401673       118    28527  0.002233                         271.0   \n",
       "2  405503       119    28527  0.001944                         578.0   \n",
       "3  409333       120    28527  0.001775                         579.0   \n",
       "4  413163       122    28527  0.001986                         467.0   \n",
       "\n",
       "   book.wap1.sum  book.wap1.mean  book.wap1.std  book.wap2.sum  \\\n",
       "0     288.890259        0.999620       0.000797     288.842896   \n",
       "1     270.716705        0.998955       0.000588     270.726440   \n",
       "2     579.627319        1.002815       0.000327     579.623962   \n",
       "3     578.270325        0.998740       0.000471     578.260620   \n",
       "4     466.298248        0.998497       0.001005     466.296143   \n",
       "\n",
       "   book.wap2.mean  ...  trade_300.order_count.mean  \\\n",
       "0        0.999456  ...                    2.312500   \n",
       "1        0.998991  ...                    2.571429   \n",
       "2        1.002810  ...                    2.666667   \n",
       "3        0.998723  ...                    2.073171   \n",
       "4        0.998493  ...                    1.810811   \n",
       "\n",
       "   trade_150.log_return.realized_volatility  \\\n",
       "0                                  0.001587   \n",
       "1                                  0.001482   \n",
       "2                                  0.001269   \n",
       "3                                  0.001527   \n",
       "4                                  0.001452   \n",
       "\n",
       "   trade_150.seconds_in_bucket.count  trade_150.size.sum  \\\n",
       "0                               22.0              1016.0   \n",
       "1                               38.0              4262.0   \n",
       "2                               40.0             11573.0   \n",
       "3                               68.0              9710.0   \n",
       "4                               65.0              5065.0   \n",
       "\n",
       "   trade_150.order_count.mean  tick_size  trade.tau  trade_150.tau  book.tau  \\\n",
       "0                    2.045455   0.000050   0.174078       0.213201  0.058824   \n",
       "1                    2.710526   0.000036   0.145865       0.162221  0.060746   \n",
       "2                    2.925000   0.000199   0.121268       0.158114  0.041595   \n",
       "3                    2.132353   0.000122   0.101015       0.121268  0.041559   \n",
       "4                    2.030769   0.000093   0.110432       0.124035  0.046274   \n",
       "\n",
       "   real_price  \n",
       "0  199.254347  \n",
       "1  281.025394  \n",
       "2   50.321584  \n",
       "3   81.680701  \n",
       "4  107.546256  \n",
       "\n",
       "[5 rows x 221 columns]"
      ]
     },
     "execution_count": 3,
     "metadata": {},
     "output_type": "execute_result"
    }
   ],
   "source": [
    "small_data = df.tail(50000).copy()\n",
    "small_data.reset_index(inplace=True)\n",
    "\n",
    "small_data.head()"
   ]
  },
  {
   "cell_type": "code",
   "execution_count": 4,
   "id": "3c3e95d4",
   "metadata": {},
   "outputs": [
    {
     "data": {
      "text/plain": [
       "50000"
      ]
     },
     "execution_count": 4,
     "metadata": {},
     "output_type": "execute_result"
    }
   ],
   "source": [
    "len(small_data)"
   ]
  },
  {
   "cell_type": "code",
   "execution_count": 5,
   "id": "fb9ecc24",
   "metadata": {},
   "outputs": [],
   "source": [
    "# train and test split\n",
    "X = small_data.iloc[:, 4:-4]\n",
    "y = small_data.iloc[:,3]\n",
    "\n",
    "split = int(len(small_data) * 0.8)\n",
    "\n",
    "X_train = X[:split]\n",
    "y_train = y[:split]\n",
    "\n",
    "X_test = X[split:]\n",
    "y_test = y[split:]"
   ]
  },
  {
   "cell_type": "code",
   "execution_count": 17,
   "id": "dbc41baf",
   "metadata": {},
   "outputs": [
    {
     "data": {
      "text/html": [
       "<div>\n",
       "<style scoped>\n",
       "    .dataframe tbody tr th:only-of-type {\n",
       "        vertical-align: middle;\n",
       "    }\n",
       "\n",
       "    .dataframe tbody tr th {\n",
       "        vertical-align: top;\n",
       "    }\n",
       "\n",
       "    .dataframe thead th {\n",
       "        text-align: right;\n",
       "    }\n",
       "</style>\n",
       "<table border=\"1\" class=\"dataframe\">\n",
       "  <thead>\n",
       "    <tr style=\"text-align: right;\">\n",
       "      <th></th>\n",
       "      <th>book.seconds_in_bucket.count</th>\n",
       "      <th>book.wap1.sum</th>\n",
       "      <th>book.wap1.mean</th>\n",
       "      <th>book.wap1.std</th>\n",
       "      <th>book.wap2.sum</th>\n",
       "      <th>book.wap2.mean</th>\n",
       "      <th>book.wap2.std</th>\n",
       "      <th>book.log_return1.sum</th>\n",
       "      <th>book.log_return1.realized_volatility</th>\n",
       "      <th>book.log_return1.mean</th>\n",
       "      <th>...</th>\n",
       "      <th>trade_450.order_count.mean</th>\n",
       "      <th>trade_300.log_return.realized_volatility</th>\n",
       "      <th>trade_300.seconds_in_bucket.count</th>\n",
       "      <th>trade_300.size.sum</th>\n",
       "      <th>trade_300.order_count.mean</th>\n",
       "      <th>trade_150.log_return.realized_volatility</th>\n",
       "      <th>trade_150.seconds_in_bucket.count</th>\n",
       "      <th>trade_150.size.sum</th>\n",
       "      <th>trade_150.order_count.mean</th>\n",
       "      <th>tick_size</th>\n",
       "    </tr>\n",
       "  </thead>\n",
       "  <tbody>\n",
       "    <tr>\n",
       "      <th>0</th>\n",
       "      <td>289.0</td>\n",
       "      <td>288.890259</td>\n",
       "      <td>0.999620</td>\n",
       "      <td>0.000797</td>\n",
       "      <td>288.842896</td>\n",
       "      <td>0.999456</td>\n",
       "      <td>0.000889</td>\n",
       "      <td>-0.001521</td>\n",
       "      <td>0.002882</td>\n",
       "      <td>-5.281345e-06</td>\n",
       "      <td>...</td>\n",
       "      <td>1.714286</td>\n",
       "      <td>0.001402</td>\n",
       "      <td>16.0</td>\n",
       "      <td>995.0</td>\n",
       "      <td>2.312500</td>\n",
       "      <td>0.001587</td>\n",
       "      <td>22.0</td>\n",
       "      <td>1016.0</td>\n",
       "      <td>2.045455</td>\n",
       "      <td>0.000050</td>\n",
       "    </tr>\n",
       "    <tr>\n",
       "      <th>1</th>\n",
       "      <td>271.0</td>\n",
       "      <td>270.716705</td>\n",
       "      <td>0.998955</td>\n",
       "      <td>0.000588</td>\n",
       "      <td>270.726440</td>\n",
       "      <td>0.998991</td>\n",
       "      <td>0.000676</td>\n",
       "      <td>0.001137</td>\n",
       "      <td>0.003899</td>\n",
       "      <td>4.209816e-06</td>\n",
       "      <td>...</td>\n",
       "      <td>2.857143</td>\n",
       "      <td>0.001154</td>\n",
       "      <td>28.0</td>\n",
       "      <td>2381.0</td>\n",
       "      <td>2.571429</td>\n",
       "      <td>0.001482</td>\n",
       "      <td>38.0</td>\n",
       "      <td>4262.0</td>\n",
       "      <td>2.710526</td>\n",
       "      <td>0.000036</td>\n",
       "    </tr>\n",
       "    <tr>\n",
       "      <th>2</th>\n",
       "      <td>578.0</td>\n",
       "      <td>579.627319</td>\n",
       "      <td>1.002815</td>\n",
       "      <td>0.000327</td>\n",
       "      <td>579.623962</td>\n",
       "      <td>1.002810</td>\n",
       "      <td>0.000360</td>\n",
       "      <td>-0.000579</td>\n",
       "      <td>0.001889</td>\n",
       "      <td>-1.003962e-06</td>\n",
       "      <td>...</td>\n",
       "      <td>2.615385</td>\n",
       "      <td>0.000953</td>\n",
       "      <td>21.0</td>\n",
       "      <td>6886.0</td>\n",
       "      <td>2.666667</td>\n",
       "      <td>0.001269</td>\n",
       "      <td>40.0</td>\n",
       "      <td>11573.0</td>\n",
       "      <td>2.925000</td>\n",
       "      <td>0.000199</td>\n",
       "    </tr>\n",
       "    <tr>\n",
       "      <th>3</th>\n",
       "      <td>579.0</td>\n",
       "      <td>578.270325</td>\n",
       "      <td>0.998740</td>\n",
       "      <td>0.000471</td>\n",
       "      <td>578.260620</td>\n",
       "      <td>0.998723</td>\n",
       "      <td>0.000492</td>\n",
       "      <td>-0.000099</td>\n",
       "      <td>0.002227</td>\n",
       "      <td>-1.713150e-07</td>\n",
       "      <td>...</td>\n",
       "      <td>2.136364</td>\n",
       "      <td>0.001059</td>\n",
       "      <td>41.0</td>\n",
       "      <td>6353.0</td>\n",
       "      <td>2.073171</td>\n",
       "      <td>0.001527</td>\n",
       "      <td>68.0</td>\n",
       "      <td>9710.0</td>\n",
       "      <td>2.132353</td>\n",
       "      <td>0.000122</td>\n",
       "    </tr>\n",
       "    <tr>\n",
       "      <th>4</th>\n",
       "      <td>467.0</td>\n",
       "      <td>466.298248</td>\n",
       "      <td>0.998497</td>\n",
       "      <td>0.001005</td>\n",
       "      <td>466.296143</td>\n",
       "      <td>0.998493</td>\n",
       "      <td>0.001038</td>\n",
       "      <td>-0.003534</td>\n",
       "      <td>0.002505</td>\n",
       "      <td>-7.583502e-06</td>\n",
       "      <td>...</td>\n",
       "      <td>2.117647</td>\n",
       "      <td>0.001075</td>\n",
       "      <td>37.0</td>\n",
       "      <td>2480.0</td>\n",
       "      <td>1.810811</td>\n",
       "      <td>0.001452</td>\n",
       "      <td>65.0</td>\n",
       "      <td>5065.0</td>\n",
       "      <td>2.030769</td>\n",
       "      <td>0.000093</td>\n",
       "    </tr>\n",
       "  </tbody>\n",
       "</table>\n",
       "<p>5 rows × 213 columns</p>\n",
       "</div>"
      ],
      "text/plain": [
       "   book.seconds_in_bucket.count  book.wap1.sum  book.wap1.mean  book.wap1.std  \\\n",
       "0                         289.0     288.890259        0.999620       0.000797   \n",
       "1                         271.0     270.716705        0.998955       0.000588   \n",
       "2                         578.0     579.627319        1.002815       0.000327   \n",
       "3                         579.0     578.270325        0.998740       0.000471   \n",
       "4                         467.0     466.298248        0.998497       0.001005   \n",
       "\n",
       "   book.wap2.sum  book.wap2.mean  book.wap2.std  book.log_return1.sum  \\\n",
       "0     288.842896        0.999456       0.000889             -0.001521   \n",
       "1     270.726440        0.998991       0.000676              0.001137   \n",
       "2     579.623962        1.002810       0.000360             -0.000579   \n",
       "3     578.260620        0.998723       0.000492             -0.000099   \n",
       "4     466.296143        0.998493       0.001038             -0.003534   \n",
       "\n",
       "   book.log_return1.realized_volatility  book.log_return1.mean  ...  \\\n",
       "0                              0.002882          -5.281345e-06  ...   \n",
       "1                              0.003899           4.209816e-06  ...   \n",
       "2                              0.001889          -1.003962e-06  ...   \n",
       "3                              0.002227          -1.713150e-07  ...   \n",
       "4                              0.002505          -7.583502e-06  ...   \n",
       "\n",
       "   trade_450.order_count.mean  trade_300.log_return.realized_volatility  \\\n",
       "0                    1.714286                                  0.001402   \n",
       "1                    2.857143                                  0.001154   \n",
       "2                    2.615385                                  0.000953   \n",
       "3                    2.136364                                  0.001059   \n",
       "4                    2.117647                                  0.001075   \n",
       "\n",
       "   trade_300.seconds_in_bucket.count  trade_300.size.sum  \\\n",
       "0                               16.0               995.0   \n",
       "1                               28.0              2381.0   \n",
       "2                               21.0              6886.0   \n",
       "3                               41.0              6353.0   \n",
       "4                               37.0              2480.0   \n",
       "\n",
       "   trade_300.order_count.mean  trade_150.log_return.realized_volatility  \\\n",
       "0                    2.312500                                  0.001587   \n",
       "1                    2.571429                                  0.001482   \n",
       "2                    2.666667                                  0.001269   \n",
       "3                    2.073171                                  0.001527   \n",
       "4                    1.810811                                  0.001452   \n",
       "\n",
       "   trade_150.seconds_in_bucket.count  trade_150.size.sum  \\\n",
       "0                               22.0              1016.0   \n",
       "1                               38.0              4262.0   \n",
       "2                               40.0             11573.0   \n",
       "3                               68.0              9710.0   \n",
       "4                               65.0              5065.0   \n",
       "\n",
       "   trade_150.order_count.mean  tick_size  \n",
       "0                    2.045455   0.000050  \n",
       "1                    2.710526   0.000036  \n",
       "2                    2.925000   0.000199  \n",
       "3                    2.132353   0.000122  \n",
       "4                    2.030769   0.000093  \n",
       "\n",
       "[5 rows x 213 columns]"
      ]
     },
     "execution_count": 17,
     "metadata": {},
     "output_type": "execute_result"
    }
   ],
   "source": [
    "X.head()"
   ]
  },
  {
   "cell_type": "code",
   "execution_count": 18,
   "id": "0328d934",
   "metadata": {},
   "outputs": [
    {
     "data": {
      "text/plain": [
       "0    0.003425\n",
       "1    0.002233\n",
       "2    0.001944\n",
       "3    0.001775\n",
       "4    0.001986\n",
       "Name: target, dtype: float64"
      ]
     },
     "execution_count": 18,
     "metadata": {},
     "output_type": "execute_result"
    }
   ],
   "source": [
    "y.head()"
   ]
  },
  {
   "cell_type": "code",
   "execution_count": 19,
   "id": "a7e976dd",
   "metadata": {},
   "outputs": [],
   "source": [
    "# define the time series block function\n",
    "class BlockingTimeSeriesSplit():\n",
    "    def __init__(self, n_splits):\n",
    "        self.n_splits = n_splits\n",
    "    \n",
    "    def get_n_splits(self, X, y, groups):\n",
    "        return self.n_splits\n",
    "    \n",
    "    def split(self, X, y=None, groups=None):\n",
    "        n_samples = len(X)\n",
    "        k_fold_size = n_samples // self.n_splits\n",
    "        indices = np.arange(n_samples)\n",
    "\n",
    "        margin = 0\n",
    "        for i in range(self.n_splits):\n",
    "            start = i * k_fold_size\n",
    "            stop = start + k_fold_size\n",
    "            mid = int(0.5 * (stop - start)) + start\n",
    "            yield indices[start: mid], indices[mid + margin: stop]\n",
    "      "
   ]
  },
  {
   "cell_type": "code",
   "execution_count": 7,
   "id": "8ef30fea",
   "metadata": {},
   "outputs": [],
   "source": [
    "def rmspe(y_true, y_pred):\n",
    "    '''\n",
    "    Compute Root Mean Square Percentage Error between two arrays.\n",
    "    '''\n",
    "    loss = np.sqrt(np.mean(np.square(((y_true - y_pred) / y_true)), axis=0))\n",
    "\n",
    "    return loss"
   ]
  },
  {
   "cell_type": "markdown",
   "id": "0d1b8734",
   "metadata": {},
   "source": [
    "## time series one time test"
   ]
  },
  {
   "cell_type": "code",
   "execution_count": 20,
   "id": "f65be929",
   "metadata": {},
   "outputs": [
    {
     "name": "stdout",
     "output_type": "stream",
     "text": [
      "RMSE: 0.0012526102374669859 (+/- 5.896185699818328e-05\n",
      "\n",
      "R2: 0.7987505238556124 (+/- 0.022303482828491965\n"
     ]
    }
   ],
   "source": [
    "model = xgb.XGBRegressor( eta = 0.3, max_depth = 6, gamma = 0,subsample=1) # change estimator here\n",
    "\n",
    "tscv = TimeSeriesSplit(n_splits=5)\n",
    "rmse = np.sqrt(-cross_val_score(model, X_train, y_train, cv=tscv, scoring='neg_mean_squared_error'))\n",
    "R2 = cross_val_score(model, X_train, y_train, cv=tscv, scoring='r2')\n",
    "\n",
    "print(f\"RMSE: {rmse.mean()} (+/- {rmse.std()}\")\n",
    "print(f\"\\nR2: {R2.mean()} (+/- {R2.std()}\")\n"
   ]
  },
  {
   "cell_type": "code",
   "execution_count": 10,
   "id": "c6179c3e",
   "metadata": {},
   "outputs": [
    {
     "name": "stdout",
     "output_type": "stream",
     "text": [
      "RMSPE: 0.2402\n"
     ]
    }
   ],
   "source": [
    "best_model = xgb.XGBRegressor( eta = 0.11, max_depth = 7, colsample_bytree = 0.7, subsample=0.89) # change estimator here\n",
    "\n",
    "best_model.fit(X_train,y_train)\n",
    "\n",
    "y_pred=best_model.predict(X_train)\n",
    "\n",
    "error = rmspe(y_train, y_pred)\n",
    "# errors = abs(pred - y_test)\n",
    "# mape = 100 * (errors / y_test)\n",
    "# accuracy = 100 - np.mean(mape)\n",
    "print('RMSPE:', round(error, 4))"
   ]
  },
  {
   "cell_type": "markdown",
   "id": "306516db",
   "metadata": {},
   "source": [
    "## blocking time series one time test\n"
   ]
  },
  {
   "cell_type": "code",
   "execution_count": 21,
   "id": "c97e10ec",
   "metadata": {},
   "outputs": [
    {
     "name": "stdout",
     "output_type": "stream",
     "text": [
      "RMSE: 0.001243044774014148 (+/- 9.116085993569667e-05\n",
      "\n",
      "R2: 0.7807936016315631 (+/- 0.015429926416364877\n"
     ]
    }
   ],
   "source": [
    "model = xgb.XGBRegressor( eta = 0.3, max_depth = 6, gamma = 0,subsample=1) # change estimator here\n",
    "\n",
    "btscv = BlockingTimeSeriesSplit(n_splits=5)\n",
    "rmse = np.sqrt(-cross_val_score(model, X_train, y_train, cv=btscv, scoring='neg_mean_squared_error'))\n",
    "R2 = cross_val_score(model, X_train, y_train, cv=btscv, scoring='r2')\n",
    "\n",
    "print(f\"RMSE: {rmse.mean()} (+/- {rmse.std()}\")\n",
    "print(f\"\\nR2: {R2.mean()} (+/- {R2.std()}\")\n",
    "\n"
   ]
  },
  {
   "cell_type": "code",
   "execution_count": 11,
   "id": "9914c36d",
   "metadata": {},
   "outputs": [
    {
     "name": "stdout",
     "output_type": "stream",
     "text": [
      "RMSPE: 0.2811\n"
     ]
    }
   ],
   "source": [
    "best_model_1 = xgb.XGBRegressor( eta = 0.11, max_depth = 3, colsample_bytree = 0.89999, subsample=0.7) # change estimator here\n",
    "\n",
    "best_model_1.fit(X_train,y_train)\n",
    "\n",
    "y_pred=best_model_1.predict(X_train)\n",
    "\n",
    "error1 = rmspe(y_train, y_pred)\n",
    "# errors = abs(pred - y_test)\n",
    "# mape = 100 * (errors / y_test)\n",
    "# accuracy = 100 - np.mean(mape)\n",
    "print('RMSPE:', round(error1, 4))"
   ]
  },
  {
   "cell_type": "markdown",
   "id": "5fc10898",
   "metadata": {},
   "source": [
    "## Cross Validation for blocking time series split"
   ]
  },
  {
   "cell_type": "code",
   "execution_count": null,
   "id": "459b29bf",
   "metadata": {},
   "outputs": [],
   "source": []
  },
  {
   "cell_type": "code",
   "execution_count": 45,
   "id": "abe4f2de",
   "metadata": {},
   "outputs": [],
   "source": [
    "from sklearn.ensemble import RandomForestRegressor\n",
    "from tqdm import trange\n",
    "\n",
    "# cross validation for time series split\n",
    "scores = []\n",
    "xgb_r=xgb.XGBRegressor(random_state=42)\n",
    "\n",
    "\n",
    "\n",
    "param_grid = { \n",
    "    'eta': np.arange(0.01,0.2,0.05),\n",
    "    'max_depth' : np.arange(3,10,4),\n",
    "    'subsample' :np.arange(0.5,1,0.2),\n",
    "    'colsample_bytree':np.arange(0.5,1,0.2),\n",
    "}\n",
    "\n",
    "CV_xgb_r = GridSearchCV(estimator=xgb_r, param_grid=param_grid, cv= tscv)\n",
    "    \n",
    "\n",
    "CV_xgb_r.fit(X_train, y_train)\n",
    "best_params1 = CV_xgb_r.best_params_\n",
    "best_score1 = round(CV_xgb_r.best_score_,4)"
   ]
  },
  {
   "cell_type": "markdown",
   "id": "3ff8149f",
   "metadata": {},
   "source": [
    "### Cross Validation for time series split Parameters"
   ]
  },
  {
   "cell_type": "code",
   "execution_count": 46,
   "id": "e1de7b4b",
   "metadata": {},
   "outputs": [
    {
     "data": {
      "text/plain": [
       "{'colsample_bytree': 0.7,\n",
       " 'eta': 0.11,\n",
       " 'max_depth': 7,\n",
       " 'subsample': 0.8999999999999999}"
      ]
     },
     "execution_count": 46,
     "metadata": {},
     "output_type": "execute_result"
    }
   ],
   "source": [
    "best_params1"
   ]
  },
  {
   "cell_type": "code",
   "execution_count": 47,
   "id": "fb8e6541",
   "metadata": {},
   "outputs": [
    {
     "data": {
      "text/plain": [
       "0.8184"
      ]
     },
     "execution_count": 47,
     "metadata": {},
     "output_type": "execute_result"
    }
   ],
   "source": [
    "best_score1"
   ]
  },
  {
   "cell_type": "markdown",
   "id": "abaa23a6",
   "metadata": {},
   "source": [
    "### Time series split Test"
   ]
  },
  {
   "cell_type": "code",
   "execution_count": 61,
   "id": "94296cf4",
   "metadata": {},
   "outputs": [
    {
     "name": "stdout",
     "output_type": "stream",
     "text": [
      "RMSPE: 0.2659\n",
      "Accuracy: 80.38 %.\n",
      "RMSE: 0.0012990500144779813 (+/- 0.0003015199402314642\n",
      "\n",
      "R2: 0.7867757386284778 (+/- 0.03369785355775719\n"
     ]
    }
   ],
   "source": [
    "# accuracy on test set\n",
    "y_pred=CV_xgb_r.predict(X_test)\n",
    "error1 = rmspe(y_test, y_pred)\n",
    "# errors = abs(pred - y_test)\n",
    "# mape = 100 * (errors / y_test)\n",
    "# accuracy = 100 - np.mean(mape)\n",
    "print('RMSPE:', round(error1, 4))\n",
    "\n",
    "errors = abs(y_pred - y_test)\n",
    "mape = 100 * (errors / y_test)\n",
    "accuracy = 100 - np.mean(mape)\n",
    "print('Accuracy:', round(accuracy, 2), '%.')\n",
    "\n",
    "\n",
    "best_model = xgb.XGBRegressor( eta = 0.11, max_depth = 7, colsample_bytree = 0.7, subsample=0.89) # change estimator here\n",
    "rmse = np.sqrt(-cross_val_score(best_model, X_test, y_test, cv=tscv, scoring='neg_mean_squared_error'))\n",
    "R2 = cross_val_score(best_model, X_test, y_test, cv=tscv, scoring='r2')\n",
    "\n",
    "print(f\"RMSE: {rmse.mean()} (+/- {rmse.std()}\")\n",
    "print(f\"\\nR2: {R2.mean()} (+/- {R2.std()}\")\n",
    "\n"
   ]
  },
  {
   "cell_type": "code",
   "execution_count": null,
   "id": "b8bdd4c3",
   "metadata": {},
   "outputs": [],
   "source": []
  },
  {
   "cell_type": "markdown",
   "id": "cba75ec6",
   "metadata": {},
   "source": [
    "## Cross Validation for blocking time series split\n"
   ]
  },
  {
   "cell_type": "code",
   "execution_count": 29,
   "id": "f133f4f9",
   "metadata": {},
   "outputs": [],
   "source": [
    "scores0 = []\n",
    "xgb_r0=xgb.XGBRegressor(random_state=42)\n",
    "\n",
    "param_grid = { \n",
    "    'eta': np.arange(0.01,0.2,0.05),\n",
    "    'max_depth' : np.arange(3,10,4),\n",
    "    'subsample' :np.arange(0.5,1,0.2),\n",
    "    'colsample_bytree':np.arange(0.5,1,0.2),\n",
    "}\n",
    "\n",
    "CV_xgb_r0 = GridSearchCV(estimator=xgb_r0, param_grid=param_grid, cv= btscv)\n",
    "    \n",
    "\n",
    "CV_xgb_r0.fit(X_train, y_train)\n",
    "best_params0 = CV_xgb_r0.best_params_\n",
    "best_score0 = round(CV_xgb_r0.best_score_,4)"
   ]
  },
  {
   "cell_type": "markdown",
   "id": "09ea38b0",
   "metadata": {},
   "source": [
    "### Blocking time series parameters"
   ]
  },
  {
   "cell_type": "code",
   "execution_count": 43,
   "id": "754bce48",
   "metadata": {},
   "outputs": [
    {
     "data": {
      "text/plain": [
       "{'colsample_bytree': 0.8999999999999999,\n",
       " 'eta': 0.11,\n",
       " 'max_depth': 3,\n",
       " 'subsample': 0.7}"
      ]
     },
     "execution_count": 43,
     "metadata": {},
     "output_type": "execute_result"
    }
   ],
   "source": [
    "best_params0"
   ]
  },
  {
   "cell_type": "code",
   "execution_count": 44,
   "id": "bb5068db",
   "metadata": {},
   "outputs": [
    {
     "data": {
      "text/plain": [
       "0.8051"
      ]
     },
     "execution_count": 44,
     "metadata": {},
     "output_type": "execute_result"
    }
   ],
   "source": [
    "best_score0"
   ]
  },
  {
   "cell_type": "markdown",
   "id": "e6ae8ac9",
   "metadata": {},
   "source": [
    "### Blocking time series Test"
   ]
  },
  {
   "cell_type": "code",
   "execution_count": 63,
   "id": "7bd04a9a",
   "metadata": {},
   "outputs": [
    {
     "name": "stdout",
     "output_type": "stream",
     "text": [
      "RMSEP: 0.2781\n",
      "Accuracy: 79.67 %.\n",
      "RMSE: 0.0015777406786129408 (+/- 0.0001987526294595541\n",
      "\n",
      "R2: 0.686232728652745 (+/- 0.06793016477808517\n"
     ]
    }
   ],
   "source": [
    "\n",
    "best_model_1 = xgb.XGBRegressor( eta = 0.11, max_depth = 3, colsample_bytree = 0.89999, subsample=0.7) # change estimator here\n",
    "\n",
    "best_model_1.fit(X_train,y_train)\n",
    "\n",
    "y_pred=best_model_1.predict(X_test)\n",
    "error = rmspe(y_test, y_pred)\n",
    "print('RMSEP:', round(error, 4))\n",
    "\n",
    "errors1 = abs(y_pred - y_test)\n",
    "mape1 = 100 * (errors1 / y_test)\n",
    "accuracy1 = 100 - np.mean(mape1)\n",
    "print('Accuracy:', round(accuracy1, 2), '%.')\n",
    "\n",
    "\n",
    "rmse_1 = np.sqrt(-cross_val_score(best_model_1, X_test, y_test, cv=btscv, scoring='neg_mean_squared_error'))\n",
    "R2_1 = cross_val_score(best_model_1, X_test, y_test, cv=btscv, scoring='r2')\n",
    "\n",
    "# errors = abs(pred - y_test)\n",
    "# mape = 100 * (errors / y_test)\n",
    "# accuracy = 100 - np.mean(mape)\n",
    "\n",
    "print(f\"RMSE: {rmse_1.mean()} (+/- {rmse_1.std()}\")\n",
    "print(f\"\\nR2: {R2_1.mean()} (+/- {R2_1.std()}\")"
   ]
  },
  {
   "cell_type": "code",
   "execution_count": null,
   "id": "71d1a541",
   "metadata": {},
   "outputs": [],
   "source": []
  }
 ],
 "metadata": {
  "kernelspec": {
   "display_name": "Python 3",
   "language": "python",
   "name": "python3"
  },
  "language_info": {
   "codemirror_mode": {
    "name": "ipython",
    "version": 3
   },
   "file_extension": ".py",
   "mimetype": "text/x-python",
   "name": "python",
   "nbconvert_exporter": "python",
   "pygments_lexer": "ipython3",
   "version": "3.8.8"
  }
 },
 "nbformat": 4,
 "nbformat_minor": 5
}
