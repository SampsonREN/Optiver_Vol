{
 "cells": [
  {
   "cell_type": "code",
   "execution_count": 1,
   "id": "4664940d-2016-48ad-b7a9-5354bc0980a6",
   "metadata": {},
   "outputs": [],
   "source": [
    "from sklearn.model_selection import TimeSeriesSplit\n",
    "from sklearn.model_selection import KFold\n",
    "import numpy as np\n",
    "import pandas as pd\n",
    "import matplotlib.pyplot as plt\n",
    "from matplotlib.patches import Patch\n",
    "import seaborn as sns \n",
    "from tqdm import trange\n",
    "import sklearn\n",
    "from sklearn.linear_model import ElasticNet\n",
    "from sklearn.multioutput import MultiOutputRegressor\n",
    "from sklearn.ensemble import RandomForestRegressor\n",
    "from sklearn.model_selection import cross_val_score\n",
    "from sklearn.model_selection import GridSearchCV\n",
    "import datetime\n",
    "\n",
    "import warnings\n",
    "warnings.filterwarnings('ignore')"
   ]
  },
  {
   "cell_type": "code",
   "execution_count": 2,
   "id": "ff26cd28-f007-4260-8dd4-e10443be7a04",
   "metadata": {},
   "outputs": [],
   "source": [
    "# import data and data processing\n",
    "df = pd.read_csv(\"basic_feature.csv\")\n",
    "df.head()\n",
    "df = df[df.time_id != 34]\n",
    "df = df[df.time_id != 32]\n",
    "df = df[df.time_id != 4]\n",
    "df.sort_values(by=[\"time_id\", \"stock_id\"], inplace=True)\n",
    "df = df.dropna() \n",
    "# df.reset_index(inplace=True) # df is the full processed data\n",
    "small_data = df.head(5000).copy()\n",
    "small_data = df.copy()\n",
    "small_data.reset_index(inplace=True)"
   ]
  },
  {
   "cell_type": "code",
   "execution_count": 3,
   "id": "95fb3599-5128-4e77-beb5-a51d904671e0",
   "metadata": {},
   "outputs": [],
   "source": [
    "# train and test split\n",
    "X = small_data.iloc[:, 4:-4]\n",
    "y = small_data.iloc[:,3]\n",
    "\n",
    "split = int(len(small_data) * 0.8)\n",
    "\n",
    "X_train = X[:split]\n",
    "y_train = y[:split]\n",
    "\n",
    "X_test = X[split:]\n",
    "y_test = y[split:]"
   ]
  },
  {
   "cell_type": "code",
   "execution_count": null,
   "id": "e5eb4045",
   "metadata": {},
   "outputs": [],
   "source": []
  },
  {
   "cell_type": "code",
   "execution_count": 4,
   "id": "e333158b-4dcd-41c4-8ff2-0b57c8a2c722",
   "metadata": {},
   "outputs": [],
   "source": [
    "# define the time series block function\n",
    "class BlockingTimeSeriesSplit():\n",
    "    def __init__(self, n_splits):\n",
    "        self.n_splits = n_splits\n",
    "    \n",
    "    def get_n_splits(self, X, y, groups):\n",
    "        return self.n_splits\n",
    "    \n",
    "    def split(self, X, y=None, groups=None):\n",
    "        n_samples = len(X)\n",
    "        k_fold_size = n_samples // self.n_splits\n",
    "        indices = np.arange(n_samples)\n",
    "\n",
    "        margin = 0\n",
    "        for i in range(self.n_splits):\n",
    "            start = i * k_fold_size\n",
    "            stop = start + k_fold_size\n",
    "            mid = int(0.8 * (stop - start)) + start\n",
    "            yield indices[start: mid], indices[mid + margin: stop]\n",
    "            \n",
    "def rmspe_score(estimator, X, y):\n",
    "    '''\n",
    "    Compute Root Mean Square Percentage Error between two arrays.\n",
    "    '''\n",
    "    y_pred = estimator.predict(X)\n",
    "    loss = np.sqrt(np.mean(np.square(((y - y_pred) / y)), axis=0))\n",
    "\n",
    "    return loss"
   ]
  },
  {
   "cell_type": "code",
   "execution_count": 53,
   "id": "fc91811d-d4df-416c-8068-77692e805d0e",
   "metadata": {},
   "outputs": [
    {
     "name": "stdout",
     "output_type": "stream",
     "text": [
      "RMSE: 0.0012888884966440934 (+/- 5.607313682553805e-05\n",
      "\n",
      "R2: 0.806965683043155 (+/- 0.016942264267262787\n"
     ]
    }
   ],
   "source": [
    "# time series one time test\n",
    "model = RandomForestRegressor(n_estimators=50) # change estimator here\n",
    "tscv = TimeSeriesSplit(n_splits=5)\n",
    "rmse = np.sqrt(-cross_val_score(model, X_train, y_train, cv=tscv, scoring='neg_mean_squared_error'))\n",
    "R2 = cross_val_score(model, X_train, y_train, cv=tscv, scoring='r2')\n",
    "\n",
    "print(f\"RMSE: {rmse.mean()} (+/- {rmse.std()}\")\n",
    "print(f\"\\nR2: {R2.mean()} (+/- {R2.std()}\")"
   ]
  },
  {
   "cell_type": "code",
   "execution_count": 54,
   "id": "bb45443e-9425-48d9-a495-ca5fdf6a8a25",
   "metadata": {},
   "outputs": [
    {
     "name": "stdout",
     "output_type": "stream",
     "text": [
      "RMSE: 0.0013747790340590204 (+/- 0.00018207947611048532\n",
      "\n",
      "R2: 0.8073503461818203 (+/- 0.013294027030116803\n"
     ]
    }
   ],
   "source": [
    "# blocking time series one time test\n",
    "model = RandomForestRegressor(n_estimators=50)\n",
    "btscv = BlockingTimeSeriesSplit(n_splits=5)\n",
    "rmse = np.sqrt(-cross_val_score(model, X_train, y_train, cv=btscv, scoring='neg_mean_squared_error'))\n",
    "R2 = cross_val_score(model, X_train, y_train, cv=btscv, scoring='r2')\n",
    "\n",
    "print(f\"RMSE: {rmse.mean()} (+/- {rmse.std()}\")\n",
    "print(f\"\\nR2: {R2.mean()} (+/- {R2.std()}\")\n",
    "\n",
    "\n"
   ]
  },
  {
   "cell_type": "code",
   "execution_count": 5,
   "id": "a5da41c4-3668-4dec-a120-215e5f0d6dc1",
   "metadata": {},
   "outputs": [],
   "source": [
    "btscv = BlockingTimeSeriesSplit(n_splits=5)\n",
    "tscv = TimeSeriesSplit(n_splits=5)"
   ]
  },
  {
   "cell_type": "code",
   "execution_count": 6,
   "id": "405e6dfc-2775-45f2-a513-025809d4bb2d",
   "metadata": {},
   "outputs": [
    {
     "name": "stdout",
     "output_type": "stream",
     "text": [
      "11555\n"
     ]
    }
   ],
   "source": [
    "# cross validation for time series split\n",
    "starttime = datetime.datetime.now()\n",
    "scores = []\n",
    "rfc = RandomForestRegressor(random_state=42)\n",
    "param_grid = { \n",
    "    'n_estimators': [5,10,20],\n",
    "    'max_depth' : [4,6,8]\n",
    "}\n",
    "param_grid = {\n",
    "    'n_estimators': np.array([5, 10, 20]),\n",
    "    'max_depth': [None] + list(np.array([3, 6, 10])),\n",
    "    'max_features': ['auto', 'sqrt', None],\n",
    "    'max_leaf_nodes': [None] + list(np.array([10])),\n",
    "    'min_samples_split': [2],\n",
    "    'bootstrap': [True, False]\n",
    "}\n",
    "\n",
    "CV_rfc = GridSearchCV(estimator=rfc, param_grid=param_grid, cv=tscv, n_jobs=-1)\n",
    "    \n",
    "\n",
    "CV_rfc.fit(X_train, y_train)\n",
    "best_params0 = CV_rfc.best_params_\n",
    "best_score0 = round(CV_rfc.best_score_,4)\n",
    "endtime = datetime.datetime.now()\n",
    "print((endtime - starttime).seconds)\n",
    "\n"
   ]
  },
  {
   "cell_type": "code",
   "execution_count": 7,
   "id": "c5cee88d-80ce-49f4-9be2-98fc988882fd",
   "metadata": {},
   "outputs": [
    {
     "data": {
      "text/plain": [
       "{'bootstrap': False,\n",
       " 'max_depth': 10,\n",
       " 'max_features': 'sqrt',\n",
       " 'max_leaf_nodes': None,\n",
       " 'min_samples_split': 2,\n",
       " 'n_estimators': 20}"
      ]
     },
     "execution_count": 7,
     "metadata": {},
     "output_type": "execute_result"
    }
   ],
   "source": [
    "best_params0"
   ]
  },
  {
   "cell_type": "code",
   "execution_count": 8,
   "id": "a0a20cc6-8e17-486c-9d8b-0c67f1793eed",
   "metadata": {},
   "outputs": [
    {
     "data": {
      "text/plain": [
       "0.8063"
      ]
     },
     "execution_count": 8,
     "metadata": {},
     "output_type": "execute_result"
    }
   ],
   "source": [
    "best_score0"
   ]
  },
  {
   "cell_type": "code",
   "execution_count": 9,
   "id": "0892d444-eba2-4d19-8712-211b81692fc5",
   "metadata": {},
   "outputs": [
    {
     "name": "stdout",
     "output_type": "stream",
     "text": [
      "Accuracy: 79.6 %.\n"
     ]
    }
   ],
   "source": [
    "# accuracy on test set\n",
    "pred=CV_rfc.predict(X_test)\n",
    "errors = abs(pred - y_test)\n",
    "mape = 100 * (errors / y_test)\n",
    "accuracy = 100 - np.mean(mape)\n",
    "print('Accuracy:', round(accuracy, 2), '%.')"
   ]
  },
  {
   "cell_type": "code",
   "execution_count": 6,
   "id": "094c6fa8-56a9-452d-86cd-7edeac094988",
   "metadata": {},
   "outputs": [
    {
     "name": "stdout",
     "output_type": "stream",
     "text": [
      "3130\n"
     ]
    }
   ],
   "source": [
    "# cross validation for blocking time series split\n",
    "starttime = datetime.datetime.now()\n",
    "scores0 = []\n",
    "rfc=RandomForestRegressor(random_state=42)\n",
    "param_grid = { \n",
    "    'n_estimators': [5,10,20],\n",
    "    'max_depth' : [4,6,8]\n",
    "}\n",
    "param_grid = {\n",
    "    'n_estimators': np.array([5, 10, 20]),\n",
    "    'max_depth': [None] + list(np.array([3, 6, 10])),\n",
    "    'max_features': ['auto', 'sqrt', None],\n",
    "    'max_leaf_nodes': [None] + list(np.array([10])),\n",
    "    'min_samples_split': [2],\n",
    "    'bootstrap': [True, False]\n",
    "}\n",
    "\n",
    "CV_rfc = GridSearchCV(estimator=rfc, param_grid=param_grid, cv= btscv, n_jobs=-1)\n",
    "    \n",
    "\n",
    "CV_rfc.fit(X_train, y_train)\n",
    "best_params0 = CV_rfc.best_params_\n",
    "best_score0 = round(CV_rfc.best_score_,4)\n",
    "endtime = datetime.datetime.now()\n",
    "print((endtime - starttime).seconds)\n",
    "\n"
   ]
  },
  {
   "cell_type": "code",
   "execution_count": 7,
   "id": "774c0953-c75b-4805-807d-6b5fcd3ff01f",
   "metadata": {},
   "outputs": [
    {
     "data": {
      "text/plain": [
       "{'bootstrap': True,\n",
       " 'max_depth': 10,\n",
       " 'max_features': 'sqrt',\n",
       " 'max_leaf_nodes': None,\n",
       " 'min_samples_split': 2,\n",
       " 'n_estimators': 20}"
      ]
     },
     "execution_count": 7,
     "metadata": {},
     "output_type": "execute_result"
    }
   ],
   "source": [
    "best_params0"
   ]
  },
  {
   "cell_type": "code",
   "execution_count": 8,
   "id": "ab2f464e-8da5-41f3-b5e7-2e1b2b6d10f3",
   "metadata": {},
   "outputs": [
    {
     "data": {
      "text/plain": [
       "0.8077"
      ]
     },
     "execution_count": 8,
     "metadata": {},
     "output_type": "execute_result"
    }
   ],
   "source": [
    "best_score0"
   ]
  },
  {
   "cell_type": "code",
   "execution_count": 9,
   "id": "3d55a795",
   "metadata": {},
   "outputs": [
    {
     "name": "stdout",
     "output_type": "stream",
     "text": [
      "Accuracy: 79.62 %.\n"
     ]
    }
   ],
   "source": [
    "pred = CV_rfc.predict(X_test)\n",
    "errors = abs(pred - y_test)\n",
    "mape = 100 * (errors / y_test)\n",
    "accuracy = 100 - np.mean(mape)\n",
    "print('Accuracy:', round(accuracy, 2), '%.')"
   ]
  },
  {
   "cell_type": "code",
   "execution_count": 11,
   "id": "fe738a58",
   "metadata": {},
   "outputs": [
    {
     "name": "stdout",
     "output_type": "stream",
     "text": [
      "RMSE: 0.0012903429922028553 (+/- 6.573430638641215e-05\n",
      "RMSPE: 0.2871875217121766 (+/- 0.011678126551927147\n",
      "R2: 0.806037781550508 (+/- 0.01521774466403363\n"
     ]
    }
   ],
   "source": [
    "# time series one time test\n",
    "model = RandomForestRegressor(n_estimators=20,\n",
    "                              bootstrap=False,\n",
    "                                 max_depth=10,\n",
    "                                 max_features= 'sqrt',\n",
    "                                 max_leaf_nodes= None,\n",
    "                                 min_samples_split=2) # change estimator here\n",
    "tscv = TimeSeriesSplit(n_splits=5)\n",
    "rmse = np.sqrt(-cross_val_score(model, X_train, y_train, cv=tscv, scoring='neg_mean_squared_error'))\n",
    "R2 = cross_val_score(model, X_train, y_train, cv=tscv, scoring='r2')\n",
    "rmspe1 = cross_val_score(model, X_train, y_train, cv=tscv, scoring=rmspe_score)\n",
    "\n",
    "print(f\"RMSE: {rmse.mean()} (+/- {rmse.std()}\")\n",
    "print(f\"RMSPE: {rmspe1.mean()} (+/- {rmspe1.std()}\")\n",
    "print(f\"R2: {R2.mean()} (+/- {R2.std()}\")"
   ]
  },
  {
   "cell_type": "code",
   "execution_count": null,
   "id": "ba86e62c",
   "metadata": {},
   "outputs": [],
   "source": []
  },
  {
   "cell_type": "code",
   "execution_count": null,
   "id": "314b07fb",
   "metadata": {},
   "outputs": [],
   "source": []
  },
  {
   "cell_type": "code",
   "execution_count": 12,
   "id": "317faa7e",
   "metadata": {},
   "outputs": [
    {
     "name": "stdout",
     "output_type": "stream",
     "text": [
      "RMSE: 0.0013800998520051148 (+/- 0.00019534878769453018\n",
      "RMSPE: 0.30623768653244676 (+/- 0.038053357428005086\n",
      "R2: 0.8056468988118383 (+/- 0.015499334149333589\n"
     ]
    }
   ],
   "source": [
    "# blocking time series one time test\n",
    "model = RandomForestRegressor(n_estimators=20,\n",
    "                             bootstrap=True,\n",
    " max_depth=10,\n",
    " max_features= 'sqrt',\n",
    " max_leaf_nodes=None,\n",
    " min_samples_split=2)\n",
    "btscv = BlockingTimeSeriesSplit(n_splits=5)\n",
    "rmse = np.sqrt(-cross_val_score(model, X_train, y_train, cv=btscv, scoring='neg_mean_squared_error'))\n",
    "R2 = cross_val_score(model, X_train, y_train, cv=btscv, scoring='r2')\n",
    "rmspe1 = cross_val_score(model, X_train, y_train, cv=btscv, scoring=rmspe_score)\n",
    "\n",
    "print(f\"RMSE: {rmse.mean()} (+/- {rmse.std()}\")\n",
    "print(f\"RMSPE: {rmspe1.mean()} (+/- {rmspe1.std()}\")\n",
    "print(f\"R2: {R2.mean()} (+/- {R2.std()}\")"
   ]
  },
  {
   "cell_type": "code",
   "execution_count": null,
   "id": "9053ea86",
   "metadata": {},
   "outputs": [],
   "source": []
  }
 ],
 "metadata": {
  "kernelspec": {
   "display_name": "Python 3 (ipykernel)",
   "language": "python",
   "name": "python3"
  },
  "language_info": {
   "codemirror_mode": {
    "name": "ipython",
    "version": 3
   },
   "file_extension": ".py",
   "mimetype": "text/x-python",
   "name": "python",
   "nbconvert_exporter": "python",
   "pygments_lexer": "ipython3",
   "version": "3.9.7"
  }
 },
 "nbformat": 4,
 "nbformat_minor": 5
}
